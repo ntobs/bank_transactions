{
 "cells": [
  {
   "cell_type": "code",
   "execution_count": 1,
   "id": "e726393d",
   "metadata": {},
   "outputs": [],
   "source": [
    "#import libraries\n",
    "\n",
    "import pandas as pd\n",
    "\n",
    "import numpy as np\n",
    "\n",
    "import csv\n",
    "\n",
    "import calendar\n",
    "import datetime as dt"
   ]
  },
  {
   "cell_type": "code",
   "execution_count": 2,
   "id": "74645c4a",
   "metadata": {},
   "outputs": [],
   "source": [
    "#import data\n",
    "\n",
    "bank = pd.read_csv(r'C:\\\\Users\\\\ntobe\\\\Downloads\\\\bank_transactions.csv')"
   ]
  },
  {
   "cell_type": "code",
   "execution_count": 3,
   "id": "850b719d",
   "metadata": {},
   "outputs": [
    {
     "data": {
      "text/plain": [
       "(1048567, 9)"
      ]
     },
     "execution_count": 3,
     "metadata": {},
     "output_type": "execute_result"
    }
   ],
   "source": [
    "#check data dimensions\n",
    "\n",
    "bank.shape"
   ]
  },
  {
   "cell_type": "code",
   "execution_count": 4,
   "id": "6679caa0",
   "metadata": {},
   "outputs": [
    {
     "data": {
      "text/plain": [
       "TransactionID               object\n",
       "CustomerID                  object\n",
       "CustomerDOB                 object\n",
       "CustGender                  object\n",
       "CustLocation                object\n",
       "CustAccountBalance         float64\n",
       "TransactionDate             object\n",
       "TransactionTime              int64\n",
       "TransactionAmount (INR)    float64\n",
       "dtype: object"
      ]
     },
     "execution_count": 4,
     "metadata": {},
     "output_type": "execute_result"
    }
   ],
   "source": [
    "#explore consistency and validity of data types\n",
    "\n",
    "bank.dtypes"
   ]
  },
  {
   "cell_type": "code",
   "execution_count": 5,
   "id": "4798584b",
   "metadata": {},
   "outputs": [
    {
     "data": {
      "text/plain": [
       "TransactionID                 0\n",
       "CustomerID                    0\n",
       "CustomerDOB                3397\n",
       "CustGender                 1100\n",
       "CustLocation                151\n",
       "CustAccountBalance         2369\n",
       "TransactionDate               0\n",
       "TransactionTime               0\n",
       "TransactionAmount (INR)       0\n",
       "dtype: int64"
      ]
     },
     "execution_count": 5,
     "metadata": {},
     "output_type": "execute_result"
    }
   ],
   "source": [
    "#completeness / extent of incomplete data\n",
    "\n",
    "bank.isna().sum()"
   ]
  },
  {
   "cell_type": "code",
   "execution_count": 6,
   "id": "32b01699",
   "metadata": {},
   "outputs": [],
   "source": [
    "#replace blank values\n",
    "\n",
    "bank.fillna({'CustAccountBalance': 0, 'CustGender': 'G', 'CustLocation': 'NoLocation'}, inplace=True)"
   ]
  },
  {
   "cell_type": "code",
   "execution_count": 7,
   "id": "46870f1f",
   "metadata": {},
   "outputs": [],
   "source": [
    "#convert 'CustomerDOB', 'TransactionDate' columns to date data type\n",
    "\n",
    "bank[['CustomerDOB', 'TransactionDate']] = bank[['CustomerDOB', 'TransactionDate']].apply(pd.to_datetime)"
   ]
  },
  {
   "cell_type": "code",
   "execution_count": 8,
   "id": "13a92066",
   "metadata": {},
   "outputs": [],
   "source": [
    "#convert 'TransactionTime' column to a time format\n",
    "\n",
    "bank['TransactionTime'] = pd.to_datetime(bank['TransactionTime'].astype(str).str.zfill(6), format='%H%M%S')"
   ]
  },
  {
   "cell_type": "code",
   "execution_count": 9,
   "id": "64ff81f3",
   "metadata": {},
   "outputs": [],
   "source": [
    "#extract the time values only\n",
    "\n",
    "bank['TransactionTime'] = [d.time() for d in bank['TransactionTime']]"
   ]
  },
  {
   "cell_type": "code",
   "execution_count": 10,
   "id": "27b9fdba",
   "metadata": {},
   "outputs": [],
   "source": [
    "#insert column for day of the week the transaction occurred\n",
    "\n",
    "bank['DayOfWeek'] = bank['TransactionDate'].dt.day_name()"
   ]
  },
  {
   "cell_type": "code",
   "execution_count": 11,
   "id": "9c1c2122",
   "metadata": {},
   "outputs": [],
   "source": [
    "#insert column for customer age on day they transacted\n",
    "\n",
    "bank['Age'] = (bank['TransactionDate'] - bank['CustomerDOB'])/ np.timedelta64(1, 'Y')"
   ]
  },
  {
   "cell_type": "code",
   "execution_count": 12,
   "id": "5aca35b8",
   "metadata": {},
   "outputs": [
    {
     "data": {
      "text/html": [
       "<div>\n",
       "<style scoped>\n",
       "    .dataframe tbody tr th:only-of-type {\n",
       "        vertical-align: middle;\n",
       "    }\n",
       "\n",
       "    .dataframe tbody tr th {\n",
       "        vertical-align: top;\n",
       "    }\n",
       "\n",
       "    .dataframe thead th {\n",
       "        text-align: right;\n",
       "    }\n",
       "</style>\n",
       "<table border=\"1\" class=\"dataframe\">\n",
       "  <thead>\n",
       "    <tr style=\"text-align: right;\">\n",
       "      <th></th>\n",
       "      <th>TransactionID</th>\n",
       "      <th>CustomerID</th>\n",
       "      <th>CustomerDOB</th>\n",
       "      <th>CustGender</th>\n",
       "      <th>CustLocation</th>\n",
       "      <th>CustAccountBalance</th>\n",
       "      <th>TransactionDate</th>\n",
       "      <th>TransactionTime</th>\n",
       "      <th>TransactionAmount (INR)</th>\n",
       "      <th>DayOfWeek</th>\n",
       "      <th>Age</th>\n",
       "    </tr>\n",
       "  </thead>\n",
       "  <tbody>\n",
       "    <tr>\n",
       "      <th>0</th>\n",
       "      <td>T1</td>\n",
       "      <td>C5841053</td>\n",
       "      <td>1994-10-01</td>\n",
       "      <td>F</td>\n",
       "      <td>JAMSHEDPUR</td>\n",
       "      <td>17819.05</td>\n",
       "      <td>2016-02-08</td>\n",
       "      <td>14:32:07</td>\n",
       "      <td>25.0</td>\n",
       "      <td>Monday</td>\n",
       "      <td>21.355675</td>\n",
       "    </tr>\n",
       "    <tr>\n",
       "      <th>1</th>\n",
       "      <td>T2</td>\n",
       "      <td>C2142763</td>\n",
       "      <td>2057-04-04</td>\n",
       "      <td>M</td>\n",
       "      <td>JHAJJAR</td>\n",
       "      <td>2270.69</td>\n",
       "      <td>2016-02-08</td>\n",
       "      <td>14:18:58</td>\n",
       "      <td>27999.0</td>\n",
       "      <td>Monday</td>\n",
       "      <td>-41.153480</td>\n",
       "    </tr>\n",
       "    <tr>\n",
       "      <th>2</th>\n",
       "      <td>T3</td>\n",
       "      <td>C4417068</td>\n",
       "      <td>1996-11-26</td>\n",
       "      <td>F</td>\n",
       "      <td>MUMBAI</td>\n",
       "      <td>17874.44</td>\n",
       "      <td>2016-02-08</td>\n",
       "      <td>14:27:12</td>\n",
       "      <td>459.0</td>\n",
       "      <td>Monday</td>\n",
       "      <td>19.200942</td>\n",
       "    </tr>\n",
       "    <tr>\n",
       "      <th>3</th>\n",
       "      <td>T4</td>\n",
       "      <td>C5342380</td>\n",
       "      <td>1973-09-14</td>\n",
       "      <td>F</td>\n",
       "      <td>MUMBAI</td>\n",
       "      <td>866503.21</td>\n",
       "      <td>2016-02-08</td>\n",
       "      <td>14:27:14</td>\n",
       "      <td>2060.0</td>\n",
       "      <td>Monday</td>\n",
       "      <td>42.401966</td>\n",
       "    </tr>\n",
       "    <tr>\n",
       "      <th>4</th>\n",
       "      <td>T5</td>\n",
       "      <td>C9031234</td>\n",
       "      <td>1988-03-24</td>\n",
       "      <td>F</td>\n",
       "      <td>NAVI MUMBAI</td>\n",
       "      <td>6714.43</td>\n",
       "      <td>2016-02-08</td>\n",
       "      <td>18:11:56</td>\n",
       "      <td>1762.5</td>\n",
       "      <td>Monday</td>\n",
       "      <td>27.877369</td>\n",
       "    </tr>\n",
       "  </tbody>\n",
       "</table>\n",
       "</div>"
      ],
      "text/plain": [
       "  TransactionID CustomerID CustomerDOB CustGender CustLocation  \\\n",
       "0            T1   C5841053  1994-10-01          F   JAMSHEDPUR   \n",
       "1            T2   C2142763  2057-04-04          M      JHAJJAR   \n",
       "2            T3   C4417068  1996-11-26          F       MUMBAI   \n",
       "3            T4   C5342380  1973-09-14          F       MUMBAI   \n",
       "4            T5   C9031234  1988-03-24          F  NAVI MUMBAI   \n",
       "\n",
       "   CustAccountBalance TransactionDate TransactionTime  \\\n",
       "0            17819.05      2016-02-08        14:32:07   \n",
       "1             2270.69      2016-02-08        14:18:58   \n",
       "2            17874.44      2016-02-08        14:27:12   \n",
       "3           866503.21      2016-02-08        14:27:14   \n",
       "4             6714.43      2016-02-08        18:11:56   \n",
       "\n",
       "   TransactionAmount (INR) DayOfWeek        Age  \n",
       "0                     25.0    Monday  21.355675  \n",
       "1                  27999.0    Monday -41.153480  \n",
       "2                    459.0    Monday  19.200942  \n",
       "3                   2060.0    Monday  42.401966  \n",
       "4                   1762.5    Monday  27.877369  "
      ]
     },
     "execution_count": 12,
     "metadata": {},
     "output_type": "execute_result"
    }
   ],
   "source": [
    "bank.head()"
   ]
  },
  {
   "cell_type": "code",
   "execution_count": 13,
   "id": "a3a295ae",
   "metadata": {},
   "outputs": [
    {
     "data": {
      "text/plain": [
       "array(['Monday', 'Friday', 'Tuesday', 'Sunday', 'Wednesday', 'Thursday',\n",
       "       'Saturday'], dtype=object)"
      ]
     },
     "execution_count": 13,
     "metadata": {},
     "output_type": "execute_result"
    }
   ],
   "source": [
    "#confirm that 'DayOfWeek' has valid days of the week\n",
    "\n",
    "bank['DayOfWeek'].unique()"
   ]
  },
  {
   "cell_type": "code",
   "execution_count": 14,
   "id": "e7122a09",
   "metadata": {},
   "outputs": [
    {
     "data": {
      "text/html": [
       "<div>\n",
       "<style scoped>\n",
       "    .dataframe tbody tr th:only-of-type {\n",
       "        vertical-align: middle;\n",
       "    }\n",
       "\n",
       "    .dataframe tbody tr th {\n",
       "        vertical-align: top;\n",
       "    }\n",
       "\n",
       "    .dataframe thead th {\n",
       "        text-align: right;\n",
       "    }\n",
       "</style>\n",
       "<table border=\"1\" class=\"dataframe\">\n",
       "  <thead>\n",
       "    <tr style=\"text-align: right;\">\n",
       "      <th></th>\n",
       "      <th>CustAccountBalance</th>\n",
       "      <th>TransactionAmount (INR)</th>\n",
       "      <th>Age</th>\n",
       "    </tr>\n",
       "  </thead>\n",
       "  <tbody>\n",
       "    <tr>\n",
       "      <th>count</th>\n",
       "      <td>1.048567e+06</td>\n",
       "      <td>1.048567e+06</td>\n",
       "      <td>1.045170e+06</td>\n",
       "    </tr>\n",
       "    <tr>\n",
       "      <th>mean</th>\n",
       "      <td>1.151428e+05</td>\n",
       "      <td>1.574335e+03</td>\n",
       "      <td>3.321637e+01</td>\n",
       "    </tr>\n",
       "    <tr>\n",
       "      <th>std</th>\n",
       "      <td>8.455464e+05</td>\n",
       "      <td>6.574743e+03</td>\n",
       "      <td>4.914047e+01</td>\n",
       "    </tr>\n",
       "    <tr>\n",
       "      <th>min</th>\n",
       "      <td>0.000000e+00</td>\n",
       "      <td>0.000000e+00</td>\n",
       "      <td>-5.697858e+01</td>\n",
       "    </tr>\n",
       "    <tr>\n",
       "      <th>25%</th>\n",
       "      <td>4.664230e+03</td>\n",
       "      <td>1.610000e+02</td>\n",
       "      <td>2.422774e+01</td>\n",
       "    </tr>\n",
       "    <tr>\n",
       "      <th>50%</th>\n",
       "      <td>1.670949e+04</td>\n",
       "      <td>4.590300e+02</td>\n",
       "      <td>2.795129e+01</td>\n",
       "    </tr>\n",
       "    <tr>\n",
       "      <th>75%</th>\n",
       "      <td>5.747288e+04</td>\n",
       "      <td>1.200000e+03</td>\n",
       "      <td>3.324640e+01</td>\n",
       "    </tr>\n",
       "    <tr>\n",
       "      <th>max</th>\n",
       "      <td>1.150355e+08</td>\n",
       "      <td>1.560035e+06</td>\n",
       "      <td>2.169381e+02</td>\n",
       "    </tr>\n",
       "  </tbody>\n",
       "</table>\n",
       "</div>"
      ],
      "text/plain": [
       "       CustAccountBalance  TransactionAmount (INR)           Age\n",
       "count        1.048567e+06             1.048567e+06  1.045170e+06\n",
       "mean         1.151428e+05             1.574335e+03  3.321637e+01\n",
       "std          8.455464e+05             6.574743e+03  4.914047e+01\n",
       "min          0.000000e+00             0.000000e+00 -5.697858e+01\n",
       "25%          4.664230e+03             1.610000e+02  2.422774e+01\n",
       "50%          1.670949e+04             4.590300e+02  2.795129e+01\n",
       "75%          5.747288e+04             1.200000e+03  3.324640e+01\n",
       "max          1.150355e+08             1.560035e+06  2.169381e+02"
      ]
     },
     "execution_count": 14,
     "metadata": {},
     "output_type": "execute_result"
    }
   ],
   "source": [
    "#explore data points \n",
    "\n",
    "bank.describe()"
   ]
  },
  {
   "cell_type": "code",
   "execution_count": 17,
   "id": "a8cdaf88",
   "metadata": {},
   "outputs": [
    {
     "data": {
      "text/plain": [
       "Text(0.5, 1.0, 'Age')"
      ]
     },
     "execution_count": 17,
     "metadata": {},
     "output_type": "execute_result"
    },
    {
     "data": {
      "image/png": "[encoded data removed]",
      "text/plain": [
       "<Figure size 432x288 with 1 Axes>"
      ]
     },
     "metadata": {
      "needs_background": "light"
     },
     "output_type": "display_data"
    }
   ],
   "source": [
    "#displaying the outliers\n",
    "\n",
    "import seaborn as sns\n",
    "sns.boxplot(bank['Age']).set_title('Age')"
   ]
  },
  {
   "cell_type": "code",
   "execution_count": 18,
   "id": "66c2f57e",
   "metadata": {},
   "outputs": [],
   "source": [
    "#enumerate str columns for correlation matrix\n",
    "\n",
    "num_bank = bank\n",
    "\n",
    "for col_name in num_bank.columns:\n",
    "    if(num_bank[col_name].dtype == 'object'):\n",
    "        num_bank[col_name] = num_bank[col_name].astype('category')\n",
    "        num_bank[col_name] = num_bank[col_name].cat.codes"
   ]
  },
  {
   "cell_type": "code",
   "execution_count": 19,
   "id": "bff0ffab",
   "metadata": {},
   "outputs": [],
   "source": [
    "#export table as csv \n",
    "\n",
    "bank.to_csv('bank_csv_file.csv', index = False)"
   ]
  },
  {
   "cell_type": "code",
   "execution_count": null,
   "id": "c83e5b93",
   "metadata": {},
   "outputs": [],
   "source": []
  }
 ],
 "metadata": {
  "kernelspec": {
   "display_name": "Python 3",
   "language": "python",
   "name": "python3"
  },
  "language_info": {
   "codemirror_mode": {
    "name": "ipython",
    "version": 3
   },
   "file_extension": ".py",
   "mimetype": "text/x-python",
   "name": "python",
   "nbconvert_exporter": "python",
   "pygments_lexer": "ipython3",
   "version": "3.8.8"
  }
 },
 "nbformat": 4,
 "nbformat_minor": 5
}
